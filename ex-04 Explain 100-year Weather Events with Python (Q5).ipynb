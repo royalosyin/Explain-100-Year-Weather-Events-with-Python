{
 "cells": [
  {
   "cell_type": "markdown",
   "id": "b3fb5554",
   "metadata": {},
   "source": [
    "# ex-04 Explain 100-year Weather Events with Python (Q5)"
   ]
  },
  {
   "cell_type": "code",
   "execution_count": 1,
   "id": "e1c6609b",
   "metadata": {},
   "outputs": [],
   "source": [
    "# Set some parameters to apply to all plots. These can be overridden\n",
    "import matplotlib\n",
    "# Plot size to 12\" x 7\"\n",
    "matplotlib.rc('figure', figsize = (11, 6))\n",
    "# Font size to 11\n",
    "matplotlib.rc('font', size = 9)\n",
    "# Do not display top and right frame lines\n",
    "matplotlib.rc('axes.spines', top = False, right = False)\n",
    "# Remove grid lines\n",
    "matplotlib.rc('axes', grid = False)\n",
    "# Set backgound color to white\n",
    "matplotlib.rc('axes', facecolor = 'white')"
   ]
  },
  {
   "cell_type": "markdown",
   "id": "c94d35f5",
   "metadata": {},
   "source": [
    "We already explained the questions [Q1-Q3](https://www.linkedin.com/pulse/explain-100-year-weather-events-python-chonghua-yin/?trackingId=yLB5nyVEOCpTNSYpST45GQ%3D%3D) and [Q4](https://www.linkedin.com/pulse/explain-100-year-weather-events-python-q4-chonghua-yin/?trackingId=8U6zVhMvSXGwPk3l4uKWYg%3D%3D) raised from our clients about 100-year weather events:\n",
    "- ***Q1: What does the 100-year mean?***\n",
    "- ***Q2: A 100-year flood only has a 1% occurring probability. Do I really need to concern about it?***\n",
    "- ***Q3: What is the probability of getting exactly N 100-year floods Over a period?***\n",
    "- ***Q4: Our data only lasts 20~30 years. How do you get a 100-year, even 1000-year flood?***\n",
    "\n",
    "Now let's continue to take a ***100-year flood*** as an example to have a look at another interesting question. Some problems involve statistics, and are hard to describe in plain language. I will apply python to carry out some simple analysis. More details could refer to the below references."
   ]
  },
  {
   "cell_type": "markdown",
   "id": "216105b3",
   "metadata": {},
   "source": [
    "## Q5: Why did the report say the return periods would get shorter in the future?\n",
    "\n",
    "Actually, it is a comparison between historical and future periods. It is hard to present a short and concise explanation in plain language. Let's explain it using an image (as everybody knows that a picture is worth a thousand words :) as an example. A Depth-Duration-Frequency (DDF) image is downloaded from the research by [Kerry Emanuel](www.pnas.org/cgi/doi/10.1073/pnas.1716222114)(All credits go to him). \n",
    "\n",
    "The image showed the return periods of total rainfall (millimeters) at the single point of Houston, Texas, based on 3,700 simulated events each from six global climate models over the period 1981–2000 from historical simulations (blue), and 2081–2100 from RCP 8.5 simulations (red). The dots show the six-climate-set mean and the shading shows 1 SD in storm frequency, remapped into return periods."
   ]
  },
  {
   "cell_type": "markdown",
   "id": "247d02bd",
   "metadata": {},
   "source": [
    "Let's take the 100-year reaturn period on the historical DDF curve (blue) as an start, and then move downwards to draw a line to cross the future curve (red). We can find that the return period would become >10 years in the future. Of course we can also draw a horizontal line and get an intersection with the future DDF curve. It means that for the 100-year return period, the storm total rain could increase to ~450mm in the future, while the value is <300m for the historical period. \n",
    "\n",
    "Therefore, upon the image, people may summarize that the return period could get shorter from the perspective of return periods. Or people may say the future storm total rain could get more intense from the point of view of rainfall intensity."
   ]
  },
  {
   "cell_type": "markdown",
   "id": "b1b4e611",
   "metadata": {},
   "source": [
    "![image-2.png](img/gevfut.png)"
   ]
  },
  {
   "cell_type": "markdown",
   "id": "ffe1d837",
   "metadata": {},
   "source": [
    "As the global temperature is increasing, the atmosphere is getting warmer. A direct result is that a warmer atmosphere will hold more water vapour that can rain out, sometimes over a short period, in storms. Thus, it can be expected that climate change could increase the frequency and intensity of extreme rainfall. Generally, changes in precipitation extremes follow changes in global annual mean surface air temperature (GSAT) globally at roughly the Clausius–Clapeyron rate of ~7%/oC. Extreme rainfall, in turn, can increase the chance of floods occurring and their magnitude. In fact, increases in extreme rainfall have been observed in many parts of the world from the UK, France, Louisiana, and southern South America. "
   ]
  },
  {
   "cell_type": "markdown",
   "id": "5016b4c5",
   "metadata": {},
   "source": [
    "## Extra Comments\n",
    "\n",
    "As mentioned before, it is a complicated task to carry out extreme value analyis for climatic variables. You could encounter all kinds of problems from data length to data quality, from selecting refernce period (baseline) to choocing the most appropriate statistical distribution, from uncertainty to non-stationary. Moreover, climate change gets the task more complicated. It is almost impossible to find a perfect solution. In most of cases, we make it done just fitting the purposes, and good enough within the limited financial support and timeline."
   ]
  },
  {
   "cell_type": "markdown",
   "id": "04f0883f",
   "metadata": {},
   "source": [
    "## References\n",
    "\n",
    "Tabari, H. (2020). Climate change impact on flood and extreme precipitation increases with water availability. Scientific Reports, 10(1). doi:10.1038/s41598-020-70816-2 \n",
    "\n",
    "Holmes, R.R., Jr., and Dinicola, K. (2010) 100-Year flood–it's all about chance U.S. Geological Survey General Information Product 106\n",
    "\n",
    "https://www.c2es.org/content/extreme-precipitation-and-climate-change/\n",
    "\n",
    "https://public.wmo.int/en/media/news/climate-change-increased-extreme-rainfall-southeast-africa-storms\n",
    "\n",
    "https://www.epa.gov/climate-indicators/climate-change-indicators-heavy-precipitation#:~:text=Climate%20change%20can%20affect%20the,heavier%20rain%20and%20snow%20storms.\n",
    "https://cran.r-project.org/web/views/ExtremeValue.html\n",
    "\n",
    "https://www.npr.org/2022/04/19/1093613413/climate-change-hurricane-rainfall\n",
    "\n",
    "https://sciencebrief.org/uploads/reviews/ScienceBrief_Review_RAINFALL_Jun2021.pdf\n",
    "\n",
    "https://github.com/royalosyin/A-Beginner-Guide-to-Carry-out-Extreme-Value-Analysis-with-Codes-in-Python\n",
    "\n",
    "https://hdsc.nws.noaa.gov/hdsc/pfds/pfds_map_cont.html"
   ]
  },
  {
   "cell_type": "code",
   "execution_count": null,
   "id": "e21e5fa1",
   "metadata": {},
   "outputs": [],
   "source": []
  }
 ],
 "metadata": {
  "kernelspec": {
   "display_name": "Python 3 (ipykernel)",
   "language": "python",
   "name": "python3"
  },
  "language_info": {
   "codemirror_mode": {
    "name": "ipython",
    "version": 3
   },
   "file_extension": ".py",
   "mimetype": "text/x-python",
   "name": "python",
   "nbconvert_exporter": "python",
   "pygments_lexer": "ipython3",
   "version": "3.9.13"
  }
 },
 "nbformat": 4,
 "nbformat_minor": 5
}
