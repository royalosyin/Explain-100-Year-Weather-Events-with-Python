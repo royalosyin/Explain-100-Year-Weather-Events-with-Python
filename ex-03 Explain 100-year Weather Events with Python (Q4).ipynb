{
 "cells": [
  {
   "cell_type": "markdown",
   "id": "b3fb5554",
   "metadata": {},
   "source": [
    "# ex-03 Explain 100-year Weather Events with Python (cont)"
   ]
  },
  {
   "cell_type": "code",
   "execution_count": 1,
   "id": "e1c6609b",
   "metadata": {},
   "outputs": [],
   "source": [
    "# Set some parameters to apply to all plots. These can be overridden\n",
    "import matplotlib\n",
    "# Plot size to 12\" x 7\"\n",
    "matplotlib.rc('figure', figsize = (11, 6))\n",
    "# Font size to 11\n",
    "matplotlib.rc('font', size = 9)\n",
    "# Do not display top and right frame lines\n",
    "matplotlib.rc('axes.spines', top = False, right = False)\n",
    "# Remove grid lines\n",
    "matplotlib.rc('axes', grid = False)\n",
    "# Set backgound color to white\n",
    "matplotlib.rc('axes', facecolor = 'white')"
   ]
  },
  {
   "cell_type": "markdown",
   "id": "c94d35f5",
   "metadata": {},
   "source": [
    "Last time, we mainly explained the [following three questiones](https://www.linkedin.com/pulse/explain-100-year-weather-events-python-chonghua-yin/?trackingId=yLB5nyVEOCpTNSYpST45GQ%3D%3D) raised from our clients about 100-year weather events:\n",
    "- ***Q1: What does the 100-year mean?***\n",
    "- ***Q2: A 100-year flood only has a 1% occurring probability. Do I really need to concern about it?***\n",
    "- ***Q3: What is the probability of getting exactly N 100-year floods Over a period?***\n",
    "\n",
    "Now let's continue to take a ***100-year flood*** as an example to have a look at other interesting questions our clients asked before. Some problems involve statistics, and are hard to describe in plain language. I will apply python to carry out some simple analysis. More details could refer to the below references."
   ]
  },
  {
   "cell_type": "markdown",
   "id": "216105b3",
   "metadata": {},
   "source": [
    "## Q4: Our data only lasts 20 years. How do you get a 100-year, even 1000-year flood?\n",
    "\n",
    "The simple answser is that we estimate the a 100-year flood based on the 20-year data. \n",
    "\n",
    "A complicated answer is that we estimate it through some kind of Extreme value analysis [(EVA)](https://en.wikipedia.org/wiki/Extreme_value_theory) methods. EVA is a statistical tool to estimate the likelihood of the occurrence of extreme values based on a few basic assumptions and observed/measured data. For evaluating the risk of extreme events, a parametric frequency analysis approach is usually adopted in EVA. That is to say, an extreme value model is formulated based on fitting a theoretical probability distribution to the observed extreme value series. \n",
    "\n",
    "[***TLDR Jump***] \n",
    "\n",
    "It is a complex task to carry out extreme value analysis as there are too many options for each analysis step:\n",
    "\n",
    "- Two different extreme value models are generally applied in EVA, the annual maximum series (AMS) method and the partial duration series (PDS) method, also known as the peak over threshold (POT) method. \n",
    "\n",
    "- Moreover, there is a large number of probability distributions available for EVA, including exponential, generalised Pareto, Gumbel, generalised extreme value (***GEV***), Weibull, Frechét, gamma, Pearson Type 3, Log-Pearson Type 3, log-normal, and square-root exponential distributions, etc. \n",
    "\n",
    "- At the same time, three different estimation methods could be employed to estimate an EVA distribution parameters: method of moments, maximum likelihood method, and method of L-moments. \n",
    "\n",
    "- There are also several  goodness-of-fit statistics to check which distribution is the most appropriate one. Besides an evaluation of the goodness-of-fit statistics, a graphical comparison of the different distributions with the observed extreme value series should also be carried out.\n",
    "- The uncertainties associated with the return level should also be reported on, which could be estimated with Monte Carlo simulation and Jackknife resampling.\n",
    "\n",
    "Here we will not provide a step by step introduction. If you are interested in this topic and want to have a practice, there are many online resources available (see below references), or you can refer to the series of tutorials I wrote 5 year ago about how to carry out [Extreme-Value-Analysis-with-Codes-in-Python](https://github.com/royalosyin/A-Beginner-Guide-to-Carry-out-Extreme-Value-Analysis-with-Codes-in-Python) (Perhaps outdated. But the steps and ideas may still be valueable).\n",
    "\n",
    "[***Jump to Here***]\n",
    "\n",
    "It is hard to present a short and concise explanation in plain language. Let's have an illustration image. The image was extracted from a [previous tutorial](https://github.com/royalosyin/A-Beginner-Guide-to-Carry-out-Extreme-Value-Analysis-with-Codes-in-Python) I wrote 5 year ago. In the following image, the historical data has 100-year records and our client wanted to know the amount of a 1000-year extreme precipitation event. After an extensive comparisons, we finally fit the historical annual maximum series (AMS) into a generalised extreme value (***GEV***) distribution.\n",
    "\n",
    "The blue line on the image shows that the GEV distribution could describe the historical AMS quite well, and the amount of precipitation is above ***4 inches*** for ARI=100a, while the value will get over ***7 inches*** for ARI=1000a. In addition, the dash blue and orange lines show its 95% confidence intervals (i.e., uncertainty). As the return periods gradually get longer, the exact value of the return year predicted by the distribution does not necessarily match up with the correct quantile of the historical AMS. This is expected as extrapolations, by their very nature, will not provide a perfect description of the underlying AMS data. In these situations, the confidence interval around the return level is key to interpreting the results of the distribution. \n",
    "\n",
    "The confidence interval can be interpreted as the bounds inside which the extreme precipitation in an extrapolated area will lie. Rather than reporting just a single value for the extreme precipitation at a specific return period, it often presented as a range of values and a measure of its confidence that the extreme precipitation lies in this set of bounds. \n",
    "\n",
    "In a summary, it is not hard to find that the long-term (over 100 years here) extreme events are obtained by extrapolating the fitted statisitcal distribution of limited historical data. Furthermore, understanding uncertainty associated with extrapolation is a key part of using extreme value analysis. \n",
    "\n",
    "We can not identify a 1000-year event directly from a 100-year historical data because we do not have the observation data with that length. Therefore, we have to depend on statistical methods. In another word, it is impossible to directly validate a 1000-year event, it would require data from outside of the historical data (e.g., only 30-year data), which is generally unavailable. Under such a case, paleohydrological data can practically be incorporated to develop records that are 10 to 100 times longer than conventional or historical records. However, it is also very difficult to obtain paleohydrological data in practice. In view of its potential benefits, it is recommended that the use of paleoflood data should be considered where expenditure of the additional resources can be justified. "
   ]
  },
  {
   "cell_type": "markdown",
   "id": "b1b4e611",
   "metadata": {},
   "source": [
    "\n",
    "\n",
    "\n",
    "\n",
    "\n",
    "![image-2.png](img/gev.png)"
   ]
  },
  {
   "cell_type": "markdown",
   "id": "04f0883f",
   "metadata": {},
   "source": [
    "## References\n",
    "\n",
    "Holmes, R.R., Jr., and Dinicola, K. (2010) 100-Year flood–it's all about chance U.S. Geological Survey General Information Product 106\n",
    "\n",
    "Peres, D. J.; Cancelliere, A. (2016-10-01). \"Estimating return period of landslide triggering by Monte Carlo simulation\". Journal of Hydrology. Flash floods, hydro-geomorphic response and risk management. 541: 256–271. doi:10.1016/j.jhydrol.2016.03.036\n",
    "\n",
    "https://cran.r-project.org/web/views/ExtremeValue.html\n",
    "\n",
    "https://en.wikipedia.org/wiki/Extreme_value_theory\n",
    "\n",
    "https://georgebv.github.io/pyextremes/\n",
    "\n",
    "https://www.abc.net.au/news/2021-03-28/one-in-100-years-flood-talk-misleading/100030144\n",
    "\n",
    "https://github.com/royalosyin/A-Beginner-Guide-to-Carry-out-Extreme-Value-Analysis-with-Codes-in-Python\n",
    "\n",
    "https://hdsc.nws.noaa.gov/hdsc/pfds/pfds_map_cont.html"
   ]
  },
  {
   "cell_type": "code",
   "execution_count": null,
   "id": "e21e5fa1",
   "metadata": {},
   "outputs": [],
   "source": []
  }
 ],
 "metadata": {
  "kernelspec": {
   "display_name": "Python 3 (ipykernel)",
   "language": "python",
   "name": "python3"
  },
  "language_info": {
   "codemirror_mode": {
    "name": "ipython",
    "version": 3
   },
   "file_extension": ".py",
   "mimetype": "text/x-python",
   "name": "python",
   "nbconvert_exporter": "python",
   "pygments_lexer": "ipython3",
   "version": "3.8.13"
  }
 },
 "nbformat": 4,
 "nbformat_minor": 5
}
